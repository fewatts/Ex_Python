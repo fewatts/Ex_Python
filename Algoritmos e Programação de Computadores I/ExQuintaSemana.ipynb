{
 "cells": [
  {
   "cell_type": "code",
   "execution_count": null,
   "metadata": {},
   "outputs": [
    {
     "name": "stdout",
     "output_type": "stream",
     "text": [
      "Você pode obter benefícios de pensão\n"
     ]
    }
   ],
   "source": [
    "# A.\n",
    "idade = eval(input(\"Digite a idade: \"))\n",
    "\n",
    "if idade > 62:\n",
    "    print(\"Você pode obter benefícios de pensão\")\n"
   ]
  },
  {
   "cell_type": "code",
   "execution_count": 7,
   "metadata": {},
   "outputs": [
    {
     "name": "stdout",
     "output_type": "stream",
     "text": [
      "Um dos 5 maiores jogadores de beisebol de todos os tempos!\n"
     ]
    }
   ],
   "source": [
    "lista = ['Musial', 'Aaraon', 'Williams', 'Gehrig', 'Ruth']\n",
    "\n",
    "nome = input(\"Digite um nome\")\n",
    "\n",
    "if nome in lista:\n",
    "    print(\"Um dos 5 maiores jogadores de beisebol de todos os tempos!\")\n"
   ]
  },
  {
   "cell_type": "code",
   "execution_count": null,
   "metadata": {},
   "outputs": [
    {
     "name": "stdout",
     "output_type": "stream",
     "text": [
      "Cê ta morto...\n"
     ]
    }
   ],
   "source": [
    "golpes = 11\n",
    "defesa = 0\n",
    "\n",
    "if golpes > 10 and defesa == 0:\n",
    "    print(\"Cê ta morto...\")\n"
   ]
  },
  {
   "cell_type": "code",
   "execution_count": 9,
   "metadata": {},
   "outputs": [
    {
     "name": "stdout",
     "output_type": "stream",
     "text": [
      "Posso escapar ein....\n"
     ]
    }
   ],
   "source": [
    "norte = False\n",
    "oeste = False\n",
    "leste = True\n",
    "sul = True\n",
    "\n",
    "if norte or oeste or leste or sul:\n",
    "    print(\"Posso escapar ein....\")\n"
   ]
  },
  {
   "cell_type": "code",
   "execution_count": 10,
   "metadata": {},
   "outputs": [
    {
     "name": "stdout",
     "output_type": "stream",
     "text": [
      "Definitivamente não é bissexto\n"
     ]
    }
   ],
   "source": [
    "ano = 2025\n",
    "\n",
    "if ano % 4 == 0:\n",
    "    print(\"Esse ano pode ser Bissexto\")\n",
    "else:\n",
    "    print(\"Definitivamente não é bissexto\")\n"
   ]
  },
  {
   "cell_type": "code",
   "execution_count": null,
   "metadata": {},
   "outputs": [
    {
     "name": "stdout",
     "output_type": "stream",
     "text": [
      "Mais sorte da próxima vez...\n"
     ]
    }
   ],
   "source": [
    "sua_lista = [2, 5, 6, 7, 8, 3]\n",
    "\n",
    "lista_sorteada = [7, 7, 2, 8, 4, 3]\n",
    "\n",
    "if sua_lista == lista_sorteada:\n",
    "    print(\"Você está\")\n",
    "else:\n",
    "    print(\"Mais sorte da próxima vez...\")\n"
   ]
  },
  {
   "cell_type": "code",
   "execution_count": 13,
   "metadata": {},
   "outputs": [
    {
     "name": "stdout",
     "output_type": "stream",
     "text": [
      "Usuário não encontrado...\n",
      "Fim\n"
     ]
    }
   ],
   "source": [
    "users = ['joe', 'sue', 'hani', 'sophie']\n",
    "user = input(\"Digite seu usuário: \")\n",
    "\n",
    "if user in users:\n",
    "    print(\"Logado!\")\n",
    "else: \n",
    "    print (\"Usuário não encontrado...\")\n",
    "print(\"Fim\")\n"
   ]
  },
  {
   "cell_type": "code",
   "execution_count": null,
   "metadata": {},
   "outputs": [
    {
     "name": "stdout",
     "output_type": "stream",
     "text": [
      "Abaixo do peso\n"
     ]
    }
   ],
   "source": [
    "def meuIMC(peso, altura):\n",
    "    imc = peso / (altura ** 2)\n",
    "\n",
    "    if imc < 18.5:\n",
    "        print(\"Abaixo do peso\")\n",
    "    elif 25 > imc >= 18.5:\n",
    "        print(\"Normal\")\n",
    "    else:\n",
    "        print(\"Sobrepeso\")\n",
    "\n",
    "meuIMC(63, 1.90)\n"
   ]
  }
 ],
 "metadata": {
  "kernelspec": {
   "display_name": "Python 3",
   "language": "python",
   "name": "python3"
  },
  "language_info": {
   "codemirror_mode": {
    "name": "ipython",
    "version": 3
   },
   "file_extension": ".py",
   "mimetype": "text/x-python",
   "name": "python",
   "nbconvert_exporter": "python",
   "pygments_lexer": "ipython3",
   "version": "3.13.0"
  }
 },
 "nbformat": 4,
 "nbformat_minor": 2
}
