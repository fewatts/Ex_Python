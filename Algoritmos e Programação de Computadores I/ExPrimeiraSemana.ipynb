{
 "cells": [
  {
   "cell_type": "code",
   "execution_count": 1,
   "metadata": {},
   "outputs": [
    {
     "name": "stdout",
     "output_type": "stream",
     "text": [
      "O resultado de 25.0ºC em Fahrenheit é 77.0ºF\n"
     ]
    }
   ],
   "source": [
    "while True:\n",
    "    try:\n",
    "        celcios = float(input(\"Digite uma temperatura em Celsius: \"))\n",
    "        break  \n",
    "    except ValueError:\n",
    "        print(\"Por favor, digite um número válido.\")\n",
    "\n",
    "fahrenheit = celcios * 9 / 5 + 32\n",
    "print(f\"O resultado de {celcios}ºC em Fahrenheit é {fahrenheit:.1f}ºF\")\n"
   ]
  },
  {
   "cell_type": "code",
   "execution_count": 2,
   "metadata": {},
   "outputs": [
    {
     "name": "stdout",
     "output_type": "stream",
     "text": [
      "A primeira palavra na ordem alfabética é: bola\n",
      "A última palavra na ordem alfabética é: taco\n"
     ]
    }
   ],
   "source": [
    "palavras = ['taco', 'bola', 'celeiro', 'cesta', 'peteca']\n",
    "\n",
    "# Ordenando a lista\n",
    "palavras_ordenadas = sorted(palavras)\n",
    "\n",
    "# A primeira palavra na ordem alfabética\n",
    "primeira_palavra = palavras_ordenadas[0]\n",
    "\n",
    "# A última palavra na ordem alfabética\n",
    "ultima_palavra = palavras_ordenadas[-1]\n",
    "\n",
    "print(f\"A primeira palavra na ordem alfabética é: {primeira_palavra}\")\n",
    "print(f\"A última palavra na ordem alfabética é: {ultima_palavra}\")\n"
   ]
  },
  {
   "cell_type": "code",
   "execution_count": null,
   "metadata": {},
   "outputs": [
    {
     "name": "stdout",
     "output_type": "stream",
     "text": [
      "A média é igual a: 4.8\n",
      "Se fodeu kkkk\n"
     ]
    }
   ],
   "source": [
    "tot = 0\n",
    "for i in range(1, 5):  # Começando do 1 até 4\n",
    "    tot += float(input(f\"Digite a {i}º nota: \"))  # Melhorando a exibição da nota\n",
    "\n",
    "media = tot / 4\n",
    "print(f\"A média é igual a: {media:.1f}\")  # Exibe a média com 2 casas decimais\n",
    "\n",
    "# Condicional para aprovação ou reprovação\n",
    "print(\"Aprovado!\" if media >= 5 else \"Hmmm vai ter que estudar de novo....\")\n"
   ]
  },
  {
   "cell_type": "code",
   "execution_count": 4,
   "metadata": {},
   "outputs": [
    {
     "name": "stdout",
     "output_type": "stream",
     "text": [
      "5050.0\n"
     ]
    }
   ],
   "source": [
    "# valores prédefinidos para o cálculo\n",
    "n = 100\n",
    "a1 = 1\n",
    "an = 100\n",
    "soma = (n * (a1 + an)) / 2\n",
    "print(soma)\n"
   ]
  }
 ],
 "metadata": {
  "kernelspec": {
   "display_name": "Python 3",
   "language": "python",
   "name": "python3"
  },
  "language_info": {
   "codemirror_mode": {
    "name": "ipython",
    "version": 3
   },
   "file_extension": ".py",
   "mimetype": "text/x-python",
   "name": "python",
   "nbconvert_exporter": "python",
   "pygments_lexer": "ipython3",
   "version": "3.13.0"
  }
 },
 "nbformat": 4,
 "nbformat_minor": 2
}
