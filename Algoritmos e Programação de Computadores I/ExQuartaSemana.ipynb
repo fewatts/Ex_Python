{
 "cells": [
  {
   "cell_type": "code",
   "execution_count": 21,
   "metadata": {},
   "outputs": [
    {
     "name": "stdout",
     "output_type": "stream",
     "text": [
      "A temperatura em graus Celsius é 10.0\n"
     ]
    }
   ],
   "source": [
    "try:\n",
    "    f_temp = float(input(\"Digite a temperatura em graus Fahrenheit: \"))\n",
    "    c_temp = (5/9) * (f_temp - 32)\n",
    "    print(f\"A temperatura em graus Celsius é {c_temp:.1f}\")\n",
    "except ValueError:\n",
    "    print(\"Por favor, insira um valor numérico válido.\")\n"
   ]
  },
  {
   "cell_type": "code",
   "execution_count": null,
   "metadata": {},
   "outputs": [
    {
     "data": {
      "text/plain": [
       "2.75"
      ]
     },
     "execution_count": 30,
     "metadata": {},
     "output_type": "execute_result"
    }
   ],
   "source": [
    "def média(*args):\n",
    "    'retorna a média de x e y'\n",
    "    if not args: \n",
    "        raise ValueError(\"Pelo menos um número deve ser fornecido.\")\n",
    "    return sum(args) / len(args)\n",
    "média(2, 3.5)\n"
   ]
  },
  {
   "cell_type": "code",
   "execution_count": null,
   "metadata": {},
   "outputs": [
    {
     "data": {
      "text/plain": [
       "6.283185307179586"
      ]
     },
     "execution_count": 23,
     "metadata": {},
     "output_type": "execute_result"
    }
   ],
   "source": [
    "from math import pi\n",
    "\n",
    "def perimetro(r):\n",
    "    if not isinstance(r, (int, float)):  \n",
    "        raise TypeError(\"O raio deve ser um número.\")\n",
    "    if r < 0:  \n",
    "        raise ValueError(\"O raio não pode ser negativo.\")\n",
    "    return 2 * pi * r\n",
    "perimetro(1)\n"
   ]
  },
  {
   "cell_type": "code",
   "execution_count": 28,
   "metadata": {},
   "outputs": [
    {
     "name": "stdout",
     "output_type": "stream",
     "text": [
      "-1\n",
      "-3\n",
      "-9\n"
     ]
    }
   ],
   "source": [
    "def negativos(lista):\n",
    "    for i in lista:\n",
    "        if i < 0:\n",
    "            print(i)\n",
    "negativos([4, 0, -1, -3, 6, -9])\n"
   ]
  },
  {
   "cell_type": "code",
   "execution_count": null,
   "metadata": {},
   "outputs": [
    {
     "name": "stdout",
     "output_type": "stream",
     "text": [
      "Help on function média in module __main__:\n",
      "\n",
      "média(*args)\n",
      "    retorna a média de x e y\n",
      "\n"
     ]
    }
   ],
   "source": [
    "help(média)\n"
   ]
  },
  {
   "cell_type": "code",
   "execution_count": null,
   "metadata": {},
   "outputs": [
    {
     "name": "stdout",
     "output_type": "stream",
     "text": [
      "<class 'list'>\n",
      "<class 'list'>\n",
      "<class 'int'>\n"
     ]
    }
   ],
   "source": [
    "a = [5, 6, 7]\n",
    "print(type(a))\n",
    "b = a\n",
    "print(type(b))\n",
    "a = 3\n",
    "print(type(a))\n"
   ]
  },
  {
   "cell_type": "code",
   "execution_count": 40,
   "metadata": {},
   "outputs": [
    {
     "data": {
      "text/plain": [
       "['Sarah', 'Clare', 'Eleanor', 'Ava']"
      ]
     },
     "execution_count": 40,
     "metadata": {},
     "output_type": "execute_result"
    }
   ],
   "source": [
    "def inverte_lista(lista):\n",
    "    return lista[::-1]\n",
    "inverte_lista([\"Ava\", \"Eleanor\", \"Clare\", \"Sarah\"])\n"
   ]
  },
  {
   "cell_type": "code",
   "execution_count": 42,
   "metadata": {},
   "outputs": [
    {
     "data": {
      "text/plain": [
       "['maçãs', 'açúcar', 'manteiga', 'farinha']"
      ]
     },
     "execution_count": 42,
     "metadata": {},
     "output_type": "execute_result"
    }
   ],
   "source": [
    "def trocaPU(lista):\n",
    "    lista[0], lista[-1] = lista[-1], lista[0]\n",
    "    return lista\n",
    "trocaPU(['farinha', 'açúcar', 'manteiga', 'maçãs'])\n"
   ]
  }
 ],
 "metadata": {
  "kernelspec": {
   "display_name": "Python 3",
   "language": "python",
   "name": "python3"
  },
  "language_info": {
   "codemirror_mode": {
    "name": "ipython",
    "version": 3
   },
   "file_extension": ".py",
   "mimetype": "text/x-python",
   "name": "python",
   "nbconvert_exporter": "python",
   "pygments_lexer": "ipython3",
   "version": "3.13.0"
  }
 },
 "nbformat": 4,
 "nbformat_minor": 2
}
