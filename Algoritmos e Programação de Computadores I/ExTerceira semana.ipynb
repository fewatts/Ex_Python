{
 "cells": [
  {
   "cell_type": "code",
   "execution_count": 3,
   "metadata": {},
   "outputs": [
    {
     "name": "stdout",
     "output_type": "stream",
     "text": [
      "Primeira palavra: bola\n",
      "Última palavra: taco\n"
     ]
    }
   ],
   "source": [
    "palavras = ['taco', 'bola', 'celeiro', 'cesta', 'peteca']\n",
    "\n",
    "print(\"Primeira palavra:\", min(palavras))\n",
    "print(\"Última palavra:\", max(palavras))"
   ]
  },
  {
   "cell_type": "code",
   "execution_count": null,
   "metadata": {},
   "outputs": [
    {
     "name": "stdout",
     "output_type": "stream",
     "text": [
      "2\n",
      "[9, 7, 7, 10, 3, 9, 6, 6, 4]\n",
      "10\n",
      "[3, 4, 6, 6, 7, 7, 9, 9, 10]\n",
      "6.777777777777778\n"
     ]
    }
   ],
   "source": [
    "notas = [9, 7, 7, 10, 3, 9, 6, 6, 2]\n",
    "\n",
    "# A.\n",
    "print(notas.count(7))\n",
    "\n",
    "# B.\n",
    "notas[-1] = 4\n",
    "print(notas)\n",
    "\n",
    "# C.\n",
    "print(max(notas))\n",
    "\n",
    "# D.\n",
    "notas.sort()\n",
    "print(notas)\n",
    "\n",
    "# E.    \n",
    "print(sum(notas) / len(notas))"
   ]
  },
  {
   "cell_type": "code",
   "execution_count": 12,
   "metadata": {},
   "outputs": [
    {
     "name": "stdout",
     "output_type": "stream",
     "text": [
      "Resultado A: False\n",
      "Resultado B: False\n",
      "Resultado C: True\n",
      "Resultado D: 18\n",
      "Resultado E: True\n"
     ]
    }
   ],
   "source": [
    "# A. Primeiro a soma, depois as comparações e por fim a operação lógica\n",
    "resultado_a = 2 + 3 == 4 or 4 >= 5\n",
    "# Explicação:\n",
    "# 1. 2 + 3 = 5\n",
    "# 2. 5 == 4 (False) e 4 >= 5 (False)\n",
    "# 3. False or False = False\n",
    "print(\"Resultado A:\", resultado_a)  # Saída: False\n",
    "\n",
    "# B. Primeiro a multiplicação e depois as comparações\n",
    "lst = [1, 4, 3]  # Exemplo de lista\n",
    "resultado_b = lst[1] * -3 < -10 == 0\n",
    "# Explicação:\n",
    "# 1. lst[1] * -3 = 4 * -3 = -12\n",
    "# 2. -12 < -10 (True) e -10 == 0 (False)\n",
    "# 3. True == 0 (False)\n",
    "print(\"Resultado B:\", resultado_b)  # Saída: False\n",
    "\n",
    "# C. 1º multiplicação, 2º comparação, 3º inclusão do valor na lista\n",
    "resultado_c = (lst[1] * -3 < -10) in [0, True]\n",
    "# Explicação:\n",
    "# 1. lst[1] * -3 = 4 * -3 = -12\n",
    "# 2. -12 < -10 (True)\n",
    "# 3. True in [0, True] (True)\n",
    "print(\"Resultado C:\", resultado_c)  # Saída: True\n",
    "\n",
    "# D. Potência e multiplicação\n",
    "resultado_d = 2 * 3**2\n",
    "# Explicação:\n",
    "# 1. 3**2 = 9\n",
    "# 2. 2 * 9 = 18\n",
    "print(\"Resultado D:\", resultado_d)  # Saída: 18\n",
    "\n",
    "# E. Divisão e depois inclusão do valor na lista\n",
    "resultado_e = 4 / 2 in [1, 2, 3]\n",
    "# Explicação:\n",
    "# 1. 4 / 2 = 2.0\n",
    "# 2. 2.0 in [1, 2, 3] (True, pois 2.0 == 2)\n",
    "print(\"Resultado E:\", resultado_e)  # Saída: True"
   ]
  },
  {
   "cell_type": "code",
   "execution_count": null,
   "metadata": {},
   "outputs": [
    {
     "name": "stdout",
     "output_type": "stream",
     "text": [
      "0\n",
      "18.0\n",
      "2\n",
      "True\n"
     ]
    }
   ],
   "source": [
    "#A. INT\n",
    "print(False + False)\n",
    "\n",
    "#B. FLOAT\n",
    "print(2 * 3**2.0)\n",
    "\n",
    "#C. INT\n",
    "print(4 // 2 + 4 % 2)\n",
    "\n",
    "#D. Boolean\n",
    "print(2 + 3 == 4 or 5 >= 5)"
   ]
  },
  {
   "cell_type": "code",
   "execution_count": 20,
   "metadata": {},
   "outputs": [
    {
     "name": "stdout",
     "output_type": "stream",
     "text": [
      "Comprimento da hipotenusa: 5.0\n",
      "A hipotenusa é igual a 5? True\n",
      "Área do disco: 78.53981633974483\n",
      "O ponto está dentro do círculo? True\n"
     ]
    }
   ],
   "source": [
    "from math import sqrt, pi\n",
    "\n",
    "# 1. Comprimento da hipotenusa\n",
    "a = 3  # Exemplo de valor para a\n",
    "b = 4  # Exemplo de valor para b\n",
    "hipotenusa = sqrt(a**2 + b**2)  # Usando sqrt diretamente\n",
    "print(\"Comprimento da hipotenusa:\", hipotenusa)\n",
    "\n",
    "# 2. Verificar se a hipotenusa é igual a 5\n",
    "e_igual_a_5 = hipotenusa == 5\n",
    "print(\"A hipotenusa é igual a 5?\", e_igual_a_5)\n",
    "\n",
    "# 3. Área de um disco\n",
    "a = 5  # Exemplo de valor para o raio\n",
    "area = pi * a**2  # Usando pi diretamente\n",
    "print(\"Área do disco:\", area)\n",
    "\n",
    "# 4. Verificar se um ponto está dentro de um círculo\n",
    "x = 2  # Exemplo de coordenada x do ponto\n",
    "y = 3  # Exemplo de coordenada y do ponto\n",
    "a = 0  # Exemplo de coordenada x do centro do círculo\n",
    "b = 0  # Exemplo de coordenada y do centro do círculo\n",
    "r = 5  # Exemplo de raio do círculo\n",
    "\n",
    "dentro_do_circulo = sqrt((x - a)**2 + (y - b)**2) < r  # Usando sqrt diretamente\n",
    "print(\"O ponto está dentro do círculo?\", dentro_do_circulo)"
   ]
  }
 ],
 "metadata": {
  "kernelspec": {
   "display_name": "Python 3",
   "language": "python",
   "name": "python3"
  },
  "language_info": {
   "codemirror_mode": {
    "name": "ipython",
    "version": 3
   },
   "file_extension": ".py",
   "mimetype": "text/x-python",
   "name": "python",
   "nbconvert_exporter": "python",
   "pygments_lexer": "ipython3",
   "version": "3.13.0"
  }
 },
 "nbformat": 4,
 "nbformat_minor": 2
}
