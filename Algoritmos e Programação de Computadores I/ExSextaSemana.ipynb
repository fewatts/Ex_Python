{
 "cells": [
  {
   "cell_type": "code",
   "execution_count": 8,
   "metadata": {},
   "outputs": [
    {
     "name": "stdout",
     "output_type": "stream",
     "text": [
      "pare\n",
      "pote\n"
     ]
    }
   ],
   "source": [
    "palavras = eval(input(\"Digite uma lista de palavras: \"))\n",
    "\n",
    "for p in palavras:\n",
    "    if len(p) == 4:\n",
    "        print(p)\n"
   ]
  },
  {
   "cell_type": "code",
   "execution_count": 18,
   "metadata": {},
   "outputs": [
    {
     "name": "stdout",
     "output_type": "stream",
     "text": [
      "Inteiros de 0 a 9:\n",
      "0 1 2 3 4 5 6 7 8 9\n",
      "Inteiros de 0 a 1:\n",
      "0 1\n"
     ]
    }
   ],
   "source": [
    "print('Inteiros de 0 a 9:')  \n",
    "numeros = [str(i) for i in range(10)]  \n",
    "print(' '.join(numeros))\n",
    "\n",
    "print('Inteiros de 0 a 1:')  \n",
    "numeros = [str(i) for i in range(2)]  \n",
    "print(' '.join(numeros))\n"
   ]
  },
  {
   "cell_type": "code",
   "execution_count": 27,
   "metadata": {},
   "outputs": [
    {
     "name": "stdout",
     "output_type": "stream",
     "text": [
      "3 4 5 6 7 8 9 10 11 12\n",
      "0 2 4 6 8\n",
      "0 3 6 9 12 15 18 21 24\n",
      "3 8\n"
     ]
    }
   ],
   "source": [
    "numeros = [str(i) for i in range(3, 13)]  \n",
    "print(' '.join(numeros))\n",
    "\n",
    "numeros = [str(i) for i in range(0, 9, 2)]  \n",
    "print(' '.join(numeros))\n",
    "\n",
    "numeros = [str(i) for i in range(0, 25, 3)]  \n",
    "print(' '.join(numeros))\n",
    "\n",
    "numeros = [str(i) for i in range(3, 12, 5)]  \n",
    "print(' '.join(numeros))"
   ]
  }
 ],
 "metadata": {
  "kernelspec": {
   "display_name": "Python 3",
   "language": "python",
   "name": "python3"
  },
  "language_info": {
   "codemirror_mode": {
    "name": "ipython",
    "version": 3
   },
   "file_extension": ".py",
   "mimetype": "text/x-python",
   "name": "python",
   "nbconvert_exporter": "python",
   "pygments_lexer": "ipython3",
   "version": "3.13.0"
  }
 },
 "nbformat": 4,
 "nbformat_minor": 2
}
