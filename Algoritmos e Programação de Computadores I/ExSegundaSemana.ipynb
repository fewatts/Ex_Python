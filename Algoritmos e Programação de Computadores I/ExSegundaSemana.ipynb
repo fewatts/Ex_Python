{
 "cells": [
  {
   "cell_type": "code",
   "execution_count": 28,
   "metadata": {},
   "outputs": [
    {
     "name": "stdout",
     "output_type": "stream",
     "text": [
      "15\n"
     ]
    }
   ],
   "source": [
    "# 1. Soma dos 5 primeiros inteiros positivos\n",
    "soma = sum(range(1, 6))  \n",
    "print(soma) "
   ]
  },
  {
   "cell_type": "code",
   "execution_count": 29,
   "metadata": {},
   "outputs": [
    {
     "name": "stdout",
     "output_type": "stream",
     "text": [
      "24.333333333333332\n"
     ]
    }
   ],
   "source": [
    "# 2. Idade média de Sara, Mark e Fátima\n",
    "idades = [23, 19, 31]\n",
    "media_idades = sum(idades) / len(idades)\n",
    "print(media_idades) "
   ]
  },
  {
   "cell_type": "code",
   "execution_count": 36,
   "metadata": {},
   "outputs": [
    {
     "name": "stdout",
     "output_type": "stream",
     "text": [
      "5\n"
     ]
    }
   ],
   "source": [
    "# 3. Quantas vezes 73 cabe em 403\n",
    "divisao_inteira = 403 // 73  \n",
    "print(divisao_inteira) "
   ]
  },
  {
   "cell_type": "code",
   "execution_count": 40,
   "metadata": {},
   "outputs": [
    {
     "name": "stdout",
     "output_type": "stream",
     "text": [
      "38\n"
     ]
    }
   ],
   "source": [
    "# 4. Resto da divisão de 403 por 73\n",
    "resto = 403 % 73  \n",
    "print(resto) "
   ]
  },
  {
   "cell_type": "code",
   "execution_count": 39,
   "metadata": {},
   "outputs": [
    {
     "name": "stdout",
     "output_type": "stream",
     "text": [
      "1024\n"
     ]
    }
   ],
   "source": [
    "# 5. 2 elevado à 10ª potência\n",
    "potencia = 2 ** 10  \n",
    "print(potencia)"
   ]
  },
  {
   "cell_type": "code",
   "execution_count": 38,
   "metadata": {},
   "outputs": [
    {
     "name": "stdout",
     "output_type": "stream",
     "text": [
      "3\n"
     ]
    }
   ],
   "source": [
    "# 6. Valor absoluto da diferença entre as alturas de Sara e Mark\n",
    "altura_sara = 54\n",
    "altura_mark = 57\n",
    "distancia = abs(altura_sara - altura_mark)\n",
    "print(distancia) "
   ]
  },
  {
   "cell_type": "code",
   "execution_count": 37,
   "metadata": {},
   "outputs": [
    {
     "name": "stdout",
     "output_type": "stream",
     "text": [
      "29.95\n"
     ]
    }
   ],
   "source": [
    "# 7. Menor preço entre R$ 34,99, R$ 29,95 e R$ 31,50\n",
    "menor_preco = min(34.99, 29.95, 31.50)\n",
    "print(menor_preco)"
   ]
  },
  {
   "cell_type": "code",
   "execution_count": 41,
   "metadata": {},
   "outputs": [
    {
     "name": "stdout",
     "output_type": "stream",
     "text": [
      "25\n"
     ]
    }
   ],
   "source": [
    "a = 3\n",
    "b = 4\n",
    "\n",
    "c = a * a + b * b\n",
    "print(c)"
   ]
  },
  {
   "cell_type": "code",
   "execution_count": 53,
   "metadata": {},
   "outputs": [
    {
     "name": "stdout",
     "output_type": "stream",
     "text": [
      "ant bat cod\n",
      "bat bat bat bat bat bat bat bat bat bat\n",
      "ant bat bat cod cod cod\n",
      "ant bat ant bat ant bat ant bat ant bat ant bat ant bat\n",
      "batbatcod batbatcod batbatcod batbatcod batbatcod\n"
     ]
    }
   ],
   "source": [
    "s1 = \"ant\"\n",
    "s2 = \"bat\"\n",
    "s3 = \"cod\"\n",
    "\n",
    "# Linha 1\n",
    "print(f\"{s1} {s2} {s3}\")\n",
    "\n",
    "# Linha 2 (10 repetições de s2)\n",
    "print(\" \".join([s2] * 10))\n",
    "\n",
    "# Linha 3\n",
    "print(f\"{s1} {' '.join([s2] * 2)} {' '.join([s3] * 3)}\")\n",
    "\n",
    "# Linha 4 (7 repetições de \"s1 s2\")\n",
    "print(\" \".join([f\"{s1} {s2}\"] * 7))\n",
    "\n",
    "# Linha 5 (5 repetições de \"s2s2s3\")\n",
    "print(\" \".join([f\"{s2}{s2}{s3}\"] * 5))\n"
   ]
  },
  {
   "cell_type": "code",
   "execution_count": 55,
   "metadata": {},
   "outputs": [
    {
     "name": "stdout",
     "output_type": "stream",
     "text": [
      "0\n",
      "1\n",
      "6\n",
      "8\n",
      "9\n"
     ]
    }
   ],
   "source": [
    "s = '0123456789'\n",
    "\n",
    "print(s[0])\n",
    "print(s[1])\n",
    "print(s[6])\n",
    "print(s[8])\n",
    "print(s[9])\n"
   ]
  }
 ],
 "metadata": {
  "kernelspec": {
   "display_name": "Python 3",
   "language": "python",
   "name": "python3"
  },
  "language_info": {
   "codemirror_mode": {
    "name": "ipython",
    "version": 3
   },
   "file_extension": ".py",
   "mimetype": "text/x-python",
   "name": "python",
   "nbconvert_exporter": "python",
   "pygments_lexer": "ipython3",
   "version": "3.13.0"
  }
 },
 "nbformat": 4,
 "nbformat_minor": 2
}
