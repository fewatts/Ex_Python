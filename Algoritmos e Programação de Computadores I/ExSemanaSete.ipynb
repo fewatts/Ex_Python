{
 "cells": [
  {
   "cell_type": "code",
   "execution_count": 6,
   "metadata": {},
   "outputs": [
    {
     "name": "stdout",
     "output_type": "stream",
     "text": [
      "a: 234\n",
      "b: 78\n",
      "c: 1234567\n",
      "d: 123\n",
      "e: 789\n"
     ]
    }
   ],
   "source": [
    "s = '0123456789'\n",
    "\n",
    "print(\"a:\", s[2:5])\n",
    "print(\"b:\", s[7:9])\n",
    "print(\"c:\", s[1:8])\n",
    "print(\"d:\", s[1:4])\n",
    "print(\"e:\", s[7:])\n"
   ]
  },
  {
   "cell_type": "code",
   "execution_count": null,
   "metadata": {},
   "outputs": [
    {
     "name": "stdout",
     "output_type": "stream",
     "text": [
      "ocorrências da string 'day':  2\n",
      "Índice da palavra sunny:  13\n",
      "troca de sunny por cloudy:  It will be a cloudy day today\n"
     ]
    }
   ],
   "source": [
    "previsao = 'It will be a sunny day today'\n",
    "\n",
    "count = previsao.count(\"day\")\n",
    "clima = previsao.find(\"sunny\")\n",
    "troca = previsao.replace('sunny', 'cloudy')\n",
    "\n",
    "print(\"ocorrências da string 'day': \", count)\n",
    "print(\"Índice da palavra sunny: \", clima)\n",
    "print(\"troca de sunny por cloudy: \", troca)\n"
   ]
  },
  {
   "cell_type": "code",
   "execution_count": 26,
   "metadata": {},
   "outputs": [
    {
     "name": "stdout",
     "output_type": "stream",
     "text": [
      "Matriz resultante da soma:\n",
      "[4, 8, 4, 5]\n",
      "[5, 2, 10, 3]\n",
      "[8, 4, 6, 6]\n"
     ]
    }
   ],
   "source": [
    "def soma2D(matriz1, matriz2):\n",
    "    if len(matriz1) != len(matriz2) or any(len(linha1) != len(linha2) for linha1, linha2 in zip(matriz1, matriz2)):\n",
    "        print(\"Erro: As matrizes devem ter o mesmo tamanho.\")\n",
    "        return\n",
    "    for i in range(len(matriz1)):\n",
    "        for j in range(len(matriz1[i])):\n",
    "            matriz1[i][j] += matriz2[i][j]\n",
    "    print(\"Matriz resultante da soma:\")\n",
    "    for linha in matriz1:\n",
    "        print(linha)\n",
    "\n",
    "t = [[4, 7, 2, 5], [5, 1, 9, 2], [8, 3, 6, 6]]\n",
    "s = [[0, 1, 2, 0], [0, 1, 1, 1], [0, 1, 0, 0]]\n",
    "\n",
    "soma2D(t, s)\n"
   ]
  }
 ],
 "metadata": {
  "kernelspec": {
   "display_name": "Python 3",
   "language": "python",
   "name": "python3"
  },
  "language_info": {
   "codemirror_mode": {
    "name": "ipython",
    "version": 3
   },
   "file_extension": ".py",
   "mimetype": "text/x-python",
   "name": "python",
   "nbconvert_exporter": "python",
   "pygments_lexer": "ipython3",
   "version": "3.13.0"
  }
 },
 "nbformat": 4,
 "nbformat_minor": 2
}
